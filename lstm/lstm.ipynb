{
 "cells": [
  {
   "cell_type": "code",
   "execution_count": 2,
   "id": "60582d68",
   "metadata": {
    "execution": {
     "iopub.execute_input": "2025-06-06T14:56:01.219906Z",
     "iopub.status.busy": "2025-06-06T14:56:01.219486Z",
     "iopub.status.idle": "2025-06-06T14:56:26.414782Z",
     "shell.execute_reply": "2025-06-06T14:56:26.413443Z"
    },
    "papermill": {
     "duration": 25.206503,
     "end_time": "2025-06-06T14:56:26.416593",
     "exception": false,
     "start_time": "2025-06-06T14:56:01.210090",
     "status": "completed"
    },
    "tags": []
   },
   "outputs": [
    {
     "name": "stderr",
     "output_type": "stream",
     "text": [
      "2025-06-06 14:56:03.814133: E external/local_xla/xla/stream_executor/cuda/cuda_fft.cc:477] Unable to register cuFFT factory: Attempting to register factory for plugin cuFFT when one has already been registered\n",
      "WARNING: All log messages before absl::InitializeLog() is called are written to STDERR\n",
      "E0000 00:00:1749221764.064340      13 cuda_dnn.cc:8310] Unable to register cuDNN factory: Attempting to register factory for plugin cuDNN when one has already been registered\n",
      "E0000 00:00:1749221764.145951      13 cuda_blas.cc:1418] Unable to register cuBLAS factory: Attempting to register factory for plugin cuBLAS when one has already been registered\n"
     ]
    }
   ],
   "source": [
    "import cv2 \n",
    "import numpy as np \n",
    "import os \n",
    "import matplotlib.pyplot as plt \n",
    "import time \n",
    "import mediapipe as mp \n",
    "import torch \n",
    "import torch.nn as nn \n",
    "from tqdm import tqdm"
   ]
  },
  {
   "cell_type": "code",
   "execution_count": 3,
   "id": "d9301639",
   "metadata": {
    "execution": {
     "iopub.execute_input": "2025-06-06T14:56:26.436545Z",
     "iopub.status.busy": "2025-06-06T14:56:26.435903Z",
     "iopub.status.idle": "2025-06-06T14:56:26.441451Z",
     "shell.execute_reply": "2025-06-06T14:56:26.440493Z"
    },
    "papermill": {
     "duration": 0.017169,
     "end_time": "2025-06-06T14:56:26.443547",
     "exception": false,
     "start_time": "2025-06-06T14:56:26.426378",
     "status": "completed"
    },
    "tags": []
   },
   "outputs": [],
   "source": [
    "mp_holistic = mp.solutions.holistic\n",
    "mp_drawing = mp.solutions.drawing_utils"
   ]
  },
  {
   "cell_type": "code",
   "execution_count": 4,
   "id": "a3254206",
   "metadata": {
    "execution": {
     "iopub.execute_input": "2025-06-06T14:56:26.462616Z",
     "iopub.status.busy": "2025-06-06T14:56:26.462293Z",
     "iopub.status.idle": "2025-06-06T14:56:26.471655Z",
     "shell.execute_reply": "2025-06-06T14:56:26.470667Z"
    },
    "papermill": {
     "duration": 0.020562,
     "end_time": "2025-06-06T14:56:26.473260",
     "exception": false,
     "start_time": "2025-06-06T14:56:26.452698",
     "status": "completed"
    },
    "tags": []
   },
   "outputs": [],
   "source": [
    "def mediapipe_detection(image, model):\n",
    "    image = cv2.cvtColor(image, cv2.COLOR_BGR2RGB)\n",
    "    image.flags.writeable = False                  \n",
    "    results = model.process(image)                \n",
    "    image.flags.writeable = True                   \n",
    "    image = cv2.cvtColor(image, cv2.COLOR_RGB2BGR) \n",
    "    return image, results\n",
    "\n",
    "def draw_landmarks(image, results):\n",
    "    mp_drawing.draw_landmarks(image, results.face_landmarks, mp_holistic.FACEMESH_TESSELATION)\n",
    "    mp_drawing.draw_landmarks(image, results.pose_landmarks, mp_holistic.POSE_CONNECTIONS) \n",
    "    mp_drawing.draw_landmarks(image, results.left_hand_landmarks, mp_holistic.HAND_CONNECTIONS) \n",
    "    mp_drawing.draw_landmarks(image, results.right_hand_landmarks, mp_holistic.HAND_CONNECTIONS) \n",
    "\n",
    "def draw_styled_landmarks(image, results):\n",
    "    # Draw face connections\n",
    "    mp_drawing.draw_landmarks(image, results.face_landmarks, mp_holistic.FACEMESH_TESSELATION, \n",
    "                             mp_drawing.DrawingSpec(color=(80,110,10), thickness=1, circle_radius=1), \n",
    "                             mp_drawing.DrawingSpec(color=(80,256,121), thickness=1, circle_radius=1)\n",
    "                             ) \n",
    "    # Draw pose connections\n",
    "    mp_drawing.draw_landmarks(image, results.pose_landmarks, mp_holistic.POSE_CONNECTIONS,\n",
    "                             mp_drawing.DrawingSpec(color=(80,22,10), thickness=2, circle_radius=4), \n",
    "                             mp_drawing.DrawingSpec(color=(80,44,121), thickness=2, circle_radius=2)\n",
    "                             ) \n",
    "    # Draw left hand connections\n",
    "    mp_drawing.draw_landmarks(image, results.left_hand_landmarks, mp_holistic.HAND_CONNECTIONS, \n",
    "                             mp_drawing.DrawingSpec(color=(121,22,76), thickness=2, circle_radius=4), \n",
    "                             mp_drawing.DrawingSpec(color=(121,44,250), thickness=2, circle_radius=2)\n",
    "                             ) \n",
    "    # Draw right hand connections  \n",
    "    mp_drawing.draw_landmarks(image, results.right_hand_landmarks, mp_holistic.HAND_CONNECTIONS, \n",
    "                             mp_drawing.DrawingSpec(color=(245,117,66), thickness=2, circle_radius=4), \n",
    "                             mp_drawing.DrawingSpec(color=(245,66,230), thickness=2, circle_radius=2)\n",
    "                             ) "
   ]
  },
  {
   "cell_type": "code",
   "execution_count": 5,
   "id": "92c19b64",
   "metadata": {
    "execution": {
     "iopub.execute_input": "2025-06-06T14:56:26.491662Z",
     "iopub.status.busy": "2025-06-06T14:56:26.491356Z",
     "iopub.status.idle": "2025-06-06T14:56:26.498552Z",
     "shell.execute_reply": "2025-06-06T14:56:26.497603Z"
    },
    "papermill": {
     "duration": 0.018567,
     "end_time": "2025-06-06T14:56:26.500147",
     "exception": false,
     "start_time": "2025-06-06T14:56:26.481580",
     "status": "completed"
    },
    "tags": []
   },
   "outputs": [],
   "source": [
    "def normalize_keypoint_block(block,dim = 3):\n",
    "    if np.all(block == 0):\n",
    "        return block.flatten()\n",
    "\n",
    "    block = block.reshape(-1,dim)\n",
    "    mean = np.mean(block,axis = 0)\n",
    "    std = np.std(block,axis = 0) + 1e-6\n",
    "    normed = (block - mean)/std \n",
    "    return normed.flatten()\n",
    "\n",
    "def normalize_frames(frame):\n",
    "    pose = frame[:132].reshape(33,4)\n",
    "    left = frame[132:195].reshape(21,3)\n",
    "    right = frame[195:258].reshape(21,3)\n",
    "\n",
    "    pose_norm = normalize_keypoint_block(pose,dim = 4)\n",
    "    #face_norm = normalize_keypoint_block(face,dim = 3)\n",
    "    left_norm = normalize_keypoint_block(left,dim = 3)\n",
    "    right_norm = normalize_keypoint_block(right,dim = 3)\n",
    "\n",
    "    return np.concatenate([pose_norm,left_norm,right_norm])\n",
    "\n",
    "def normalize_keypoints(keypoints):\n",
    "    return np.array([normalize_frames(frame) for frame in keypoints])"
   ]
  },
  {
   "cell_type": "code",
   "execution_count": 6,
   "id": "1adb8508",
   "metadata": {
    "execution": {
     "iopub.execute_input": "2025-06-06T14:56:26.517905Z",
     "iopub.status.busy": "2025-06-06T14:56:26.517567Z",
     "iopub.status.idle": "2025-06-06T14:56:26.670278Z",
     "shell.execute_reply": "2025-06-06T14:56:26.669237Z"
    },
    "papermill": {
     "duration": 0.163599,
     "end_time": "2025-06-06T14:56:26.672026",
     "exception": false,
     "start_time": "2025-06-06T14:56:26.508427",
     "status": "completed"
    },
    "tags": []
   },
   "outputs": [],
   "source": [
    "from sklearn.model_selection import train_test_split\n",
    "from shutil import copy2"
   ]
  },
  {
   "cell_type": "code",
   "execution_count": 7,
   "id": "8254159b",
   "metadata": {
    "execution": {
     "iopub.execute_input": "2025-06-06T14:56:26.690502Z",
     "iopub.status.busy": "2025-06-06T14:56:26.690189Z",
     "iopub.status.idle": "2025-06-06T14:56:29.573324Z",
     "shell.execute_reply": "2025-06-06T14:56:29.572267Z"
    },
    "papermill": {
     "duration": 2.89463,
     "end_time": "2025-06-06T14:56:29.575229",
     "exception": false,
     "start_time": "2025-06-06T14:56:26.680599",
     "status": "completed"
    },
    "tags": []
   },
   "outputs": [
    {
     "name": "stderr",
     "output_type": "stream",
     "text": [
      "train: 100%|██████████| 403/403 [00:02<00:00, 183.07it/s]\n",
      "valid: 100%|██████████| 101/101 [00:00<00:00, 198.50it/s]\n"
     ]
    }
   ],
   "source": [
    "file_paths = []\n",
    "labels = []\n",
    "data_dir = '/kaggle/input/keypoint-lstm/cc/'\n",
    "DEST_DIR = '/kaggle/working/keypoint/'\n",
    "for class_name in os.listdir(data_dir):\n",
    "    class_dir = os.path.join(data_dir,class_name)\n",
    "    for file in os.listdir(class_dir):\n",
    "        if file.endswith('.npy'):\n",
    "            file_paths.append(os.path.join(class_dir,file))\n",
    "            labels.append(class_name)\n",
    "train_files,valid_files,train_labels, valid_labels = train_test_split(file_paths,labels,test_size = 0.2,stratify=labels,random_state = 11)\n",
    "def copy_split(files, labels, split_name):\n",
    "    for fpath, label in tqdm(zip(files, labels), total=len(files), desc=split_name):\n",
    "        out_dir = os.path.join(DEST_DIR, split_name, label)\n",
    "        os.makedirs(out_dir, exist_ok=True)\n",
    "        copy2(fpath, os.path.join(out_dir, os.path.basename(fpath)))\n",
    "\n",
    "copy_split(train_files, train_labels, 'train')\n",
    "copy_split(valid_files, valid_labels, 'valid')"
   ]
  },
  {
   "cell_type": "code",
   "execution_count": 8,
   "id": "206db458",
   "metadata": {
    "execution": {
     "iopub.execute_input": "2025-06-06T14:56:29.603121Z",
     "iopub.status.busy": "2025-06-06T14:56:29.602762Z",
     "iopub.status.idle": "2025-06-06T14:56:29.612529Z",
     "shell.execute_reply": "2025-06-06T14:56:29.611498Z"
    },
    "papermill": {
     "duration": 0.022848,
     "end_time": "2025-06-06T14:56:29.614333",
     "exception": false,
     "start_time": "2025-06-06T14:56:29.591485",
     "status": "completed"
    },
    "tags": []
   },
   "outputs": [
    {
     "data": {
      "text/plain": [
       "{'nice': 0,\n",
       " 'name': 1,\n",
       " 'please': 2,\n",
       " 'yes': 3,\n",
       " 'sit': 4,\n",
       " 'hello': 5,\n",
       " 'meet': 6,\n",
       " 'you': 7,\n",
       " 'my': 8}"
      ]
     },
     "execution_count": 8,
     "metadata": {},
     "output_type": "execute_result"
    }
   ],
   "source": [
    "allowed_action = [name for name in os.listdir(data_dir) if os.path.isdir(os.path.join(data_dir, name))]\n",
    "len(allowed_action)\n",
    "label_map = {i : name for name,i in enumerate(allowed_action)}\n",
    "label_map"
   ]
  },
  {
   "cell_type": "code",
   "execution_count": 9,
   "id": "883cbfdd",
   "metadata": {
    "execution": {
     "iopub.execute_input": "2025-06-06T14:56:29.636196Z",
     "iopub.status.busy": "2025-06-06T14:56:29.635754Z",
     "iopub.status.idle": "2025-06-06T14:56:29.806831Z",
     "shell.execute_reply": "2025-06-06T14:56:29.805760Z"
    },
    "papermill": {
     "duration": 0.18467,
     "end_time": "2025-06-06T14:56:29.808960",
     "exception": false,
     "start_time": "2025-06-06T14:56:29.624290",
     "status": "completed"
    },
    "tags": []
   },
   "outputs": [],
   "source": [
    "sequences_train = []\n",
    "labels_train = []\n",
    "DATA_PATH = '/kaggle/working/keypoint/train'\n",
    "expected_len = 80\n",
    "for action in sorted(allowed_action):\n",
    "    action_path = os.path.join(DATA_PATH,action)\n",
    "    if not os.path.exists(action_path):\n",
    "        continue\n",
    "        \n",
    "    for file_name in os.listdir(action_path):\n",
    "        file_path = os.path.join(action_path,file_name)\n",
    "        sequence = np.load(file_path)\n",
    "\n",
    "        if sequence.shape[0] < expected_len:\n",
    "            pad_len = expected_len - sequence.shape[0]\n",
    "            pad = np.zeros((pad_len,sequence.shape[1]))\n",
    "            sequence = np.concatenate((sequence,pad),axis = 0)\n",
    "\n",
    "        if sequence.shape[0] > expected_len:\n",
    "            start = (sequence.shape[0] - expected_len)//2\n",
    "            sequence = sequence[start:start + expected_len]\n",
    "\n",
    "        if sequence.shape == (expected_len,258): \n",
    "            sequences_train.append(sequence)\n",
    "            labels_train.append(label_map[action])\n",
    "    "
   ]
  },
  {
   "cell_type": "code",
   "execution_count": 10,
   "id": "c72f8bf7",
   "metadata": {
    "execution": {
     "iopub.execute_input": "2025-06-06T14:56:29.839055Z",
     "iopub.status.busy": "2025-06-06T14:56:29.838621Z",
     "iopub.status.idle": "2025-06-06T14:56:29.889686Z",
     "shell.execute_reply": "2025-06-06T14:56:29.888684Z"
    },
    "papermill": {
     "duration": 0.064688,
     "end_time": "2025-06-06T14:56:29.891649",
     "exception": false,
     "start_time": "2025-06-06T14:56:29.826961",
     "status": "completed"
    },
    "tags": []
   },
   "outputs": [],
   "source": [
    "sequences_valid = []\n",
    "labels_valid = []\n",
    "DATA_PATH = '/kaggle/working/keypoint/valid'\n",
    "expected_len = 80\n",
    "for action in sorted(allowed_action):\n",
    "    action_path = os.path.join(DATA_PATH,action)\n",
    "    if not os.path.exists(action_path):\n",
    "        continue\n",
    "        \n",
    "    for file_name in os.listdir(action_path):\n",
    "        file_path = os.path.join(action_path,file_name)\n",
    "        sequence = np.load(file_path)\n",
    "\n",
    "        if sequence.shape[0] < expected_len:\n",
    "            pad_len = expected_len - sequence.shape[0]\n",
    "            pad = np.zeros((pad_len,sequence.shape[1]))\n",
    "            sequence = np.concatenate((sequence,pad),axis = 0)\n",
    "\n",
    "        if sequence.shape[0] > expected_len:\n",
    "            start = (sequence.shape[0] - expected_len)//2\n",
    "            sequence = sequence[start:start + expected_len]\n",
    "\n",
    "        if sequence.shape == (expected_len,258): \n",
    "            sequences_valid.append(sequence)\n",
    "            labels_valid.append(label_map[action])"
   ]
  },
  {
   "cell_type": "code",
   "execution_count": 11,
   "id": "3d368572",
   "metadata": {
    "execution": {
     "iopub.execute_input": "2025-06-06T14:56:29.920736Z",
     "iopub.status.busy": "2025-06-06T14:56:29.920427Z",
     "iopub.status.idle": "2025-06-06T14:56:29.926556Z",
     "shell.execute_reply": "2025-06-06T14:56:29.925596Z"
    },
    "papermill": {
     "duration": 0.019079,
     "end_time": "2025-06-06T14:56:29.928456",
     "exception": false,
     "start_time": "2025-06-06T14:56:29.909377",
     "status": "completed"
    },
    "tags": []
   },
   "outputs": [],
   "source": [
    "import torch.nn as nn \n",
    "from torch.utils.data import Dataset\n",
    "class CustomDataset(Dataset):\n",
    "    def __init__(self,X,y):\n",
    "        self.X = torch.tensor(X)\n",
    "        self.y = torch.tensor(y)\n",
    "\n",
    "    def __len__(self):\n",
    "        return len(self.X)\n",
    "\n",
    "    def __getitem__(self,idx):\n",
    "        return self.X[idx], self.y[idx]\n",
    "    "
   ]
  },
  {
   "cell_type": "code",
   "execution_count": 12,
   "id": "0a090235",
   "metadata": {
    "execution": {
     "iopub.execute_input": "2025-06-06T14:56:29.949423Z",
     "iopub.status.busy": "2025-06-06T14:56:29.949115Z",
     "iopub.status.idle": "2025-06-06T14:56:29.992315Z",
     "shell.execute_reply": "2025-06-06T14:56:29.991188Z"
    },
    "papermill": {
     "duration": 0.055536,
     "end_time": "2025-06-06T14:56:29.994144",
     "exception": false,
     "start_time": "2025-06-06T14:56:29.938608",
     "status": "completed"
    },
    "tags": []
   },
   "outputs": [],
   "source": [
    "X_train = np.array(sequences_train)\n",
    "y_train = np.array(labels_train)\n",
    "X_valid = np.array(sequences_valid)\n",
    "y_valid = np.array(labels_valid)"
   ]
  },
  {
   "cell_type": "code",
   "execution_count": 13,
   "id": "5ad387f2",
   "metadata": {
    "execution": {
     "iopub.execute_input": "2025-06-06T14:56:30.016068Z",
     "iopub.status.busy": "2025-06-06T14:56:30.015466Z",
     "iopub.status.idle": "2025-06-06T14:56:30.023102Z",
     "shell.execute_reply": "2025-06-06T14:56:30.022042Z"
    },
    "papermill": {
     "duration": 0.020022,
     "end_time": "2025-06-06T14:56:30.024641",
     "exception": false,
     "start_time": "2025-06-06T14:56:30.004619",
     "status": "completed"
    },
    "tags": []
   },
   "outputs": [
    {
     "data": {
      "text/plain": [
       "(403, 403, 101, 101)"
      ]
     },
     "execution_count": 13,
     "metadata": {},
     "output_type": "execute_result"
    }
   ],
   "source": [
    "len(X_train),len(y_train),len(X_valid),len(y_valid)"
   ]
  },
  {
   "cell_type": "code",
   "execution_count": 14,
   "id": "3fbebf08",
   "metadata": {
    "execution": {
     "iopub.execute_input": "2025-06-06T14:56:30.046015Z",
     "iopub.status.busy": "2025-06-06T14:56:30.045586Z",
     "iopub.status.idle": "2025-06-06T14:56:30.143424Z",
     "shell.execute_reply": "2025-06-06T14:56:30.142489Z"
    },
    "papermill": {
     "duration": 0.110691,
     "end_time": "2025-06-06T14:56:30.145333",
     "exception": false,
     "start_time": "2025-06-06T14:56:30.034642",
     "status": "completed"
    },
    "tags": []
   },
   "outputs": [],
   "source": [
    "from torch.utils.data import DataLoader\n",
    "keypoint_dataset_train = CustomDataset(X_train,y_train)\n",
    "keypoint_dataset_val = CustomDataset(X_valid,y_valid)\n",
    "train_loader = DataLoader(keypoint_dataset_train,batch_size = 32,shuffle = True)\n",
    "valid_loader = DataLoader(keypoint_dataset_val, batch_size = 32, shuffle = False)"
   ]
  },
  {
   "cell_type": "code",
   "execution_count": 15,
   "id": "e9320d90",
   "metadata": {
    "execution": {
     "iopub.execute_input": "2025-06-06T14:56:30.168568Z",
     "iopub.status.busy": "2025-06-06T14:56:30.167602Z",
     "iopub.status.idle": "2025-06-06T14:56:30.267337Z",
     "shell.execute_reply": "2025-06-06T14:56:30.266234Z"
    },
    "papermill": {
     "duration": 0.11253,
     "end_time": "2025-06-06T14:56:30.269132",
     "exception": false,
     "start_time": "2025-06-06T14:56:30.156602",
     "status": "completed"
    },
    "tags": []
   },
   "outputs": [
    {
     "data": {
      "text/plain": [
       "(tensor([[[ 0.4779,  0.5879, -0.5576,  ...,  0.0000,  0.0000,  0.0000],\n",
       "          [ 0.4776,  0.5878, -0.5527,  ...,  0.0000,  0.0000,  0.0000],\n",
       "          [ 0.4773,  0.5878, -0.5524,  ...,  0.0000,  0.0000,  0.0000],\n",
       "          ...,\n",
       "          [ 0.4880,  0.5864, -0.4655,  ...,  0.0000,  0.0000,  0.0000],\n",
       "          [ 0.4879,  0.5888, -0.4986,  ...,  0.0000,  0.0000,  0.0000],\n",
       "          [ 0.4880,  0.5889, -0.5051,  ...,  0.0000,  0.0000,  0.0000]],\n",
       " \n",
       "         [[ 0.4716,  0.5698, -0.3971,  ...,  0.0000,  0.0000,  0.0000],\n",
       "          [ 0.4747,  0.5710, -0.4802,  ...,  0.0000,  0.0000,  0.0000],\n",
       "          [ 0.4765,  0.5718, -0.5269,  ...,  0.0000,  0.0000,  0.0000],\n",
       "          ...,\n",
       "          [ 0.0000,  0.0000,  0.0000,  ...,  0.0000,  0.0000,  0.0000],\n",
       "          [ 0.0000,  0.0000,  0.0000,  ...,  0.0000,  0.0000,  0.0000],\n",
       "          [ 0.0000,  0.0000,  0.0000,  ...,  0.0000,  0.0000,  0.0000]],\n",
       " \n",
       "         [[ 0.4331,  0.5807, -0.3807,  ...,  0.0000,  0.0000,  0.0000],\n",
       "          [ 0.4347,  0.5913, -0.4131,  ...,  0.0000,  0.0000,  0.0000],\n",
       "          [ 0.4354,  0.5939, -0.4318,  ...,  0.0000,  0.0000,  0.0000],\n",
       "          ...,\n",
       "          [ 0.4547,  0.5969, -0.4229,  ...,  0.0000,  0.0000,  0.0000],\n",
       "          [ 0.4537,  0.5968, -0.4258,  ...,  0.0000,  0.0000,  0.0000],\n",
       "          [ 0.4537,  0.5967, -0.4290,  ...,  0.0000,  0.0000,  0.0000]],\n",
       " \n",
       "         ...,\n",
       " \n",
       "         [[ 0.5029,  0.5426, -0.4741,  ...,  0.0000,  0.0000,  0.0000],\n",
       "          [ 0.5034,  0.5426, -0.6375,  ...,  0.0000,  0.0000,  0.0000],\n",
       "          [ 0.5038,  0.5421, -0.6254,  ...,  0.0000,  0.0000,  0.0000],\n",
       "          ...,\n",
       "          [ 0.0000,  0.0000,  0.0000,  ...,  0.0000,  0.0000,  0.0000],\n",
       "          [ 0.0000,  0.0000,  0.0000,  ...,  0.0000,  0.0000,  0.0000],\n",
       "          [ 0.0000,  0.0000,  0.0000,  ...,  0.0000,  0.0000,  0.0000]],\n",
       " \n",
       "         [[ 0.4956,  0.5428, -0.6085,  ...,  0.0000,  0.0000,  0.0000],\n",
       "          [ 0.4956,  0.5438, -0.4997,  ...,  0.0000,  0.0000,  0.0000],\n",
       "          [ 0.4957,  0.5443, -0.5181,  ...,  0.0000,  0.0000,  0.0000],\n",
       "          ...,\n",
       "          [ 0.0000,  0.0000,  0.0000,  ...,  0.0000,  0.0000,  0.0000],\n",
       "          [ 0.0000,  0.0000,  0.0000,  ...,  0.0000,  0.0000,  0.0000],\n",
       "          [ 0.0000,  0.0000,  0.0000,  ...,  0.0000,  0.0000,  0.0000]],\n",
       " \n",
       "         [[ 0.4674,  0.5591, -0.4421,  ...,  0.0000,  0.0000,  0.0000],\n",
       "          [ 0.4672,  0.5599, -0.4461,  ...,  0.0000,  0.0000,  0.0000],\n",
       "          [ 0.4670,  0.5603, -0.4459,  ...,  0.0000,  0.0000,  0.0000],\n",
       "          ...,\n",
       "          [ 0.4831,  0.5735, -0.4596,  ...,  0.0000,  0.0000,  0.0000],\n",
       "          [ 0.4831,  0.5736, -0.4539,  ...,  0.0000,  0.0000,  0.0000],\n",
       "          [ 0.4831,  0.5738, -0.4534,  ...,  0.0000,  0.0000,  0.0000]]],\n",
       "        dtype=torch.float64),\n",
       " tensor([4, 6, 1, 7, 4, 8, 6, 3, 7, 8, 0, 4, 1, 4, 1, 1, 3, 3, 1, 2, 1, 3, 5, 3,\n",
       "         4, 8, 2, 0, 5, 3, 7, 4]))"
      ]
     },
     "execution_count": 15,
     "metadata": {},
     "output_type": "execute_result"
    }
   ],
   "source": [
    "x,y = next(iter(train_loader))\n",
    "x,y"
   ]
  },
  {
   "cell_type": "code",
   "execution_count": null,
   "id": "3ca00c03",
   "metadata": {
    "execution": {
     "iopub.execute_input": "2025-06-06T14:56:30.297485Z",
     "iopub.status.busy": "2025-06-06T14:56:30.296694Z",
     "iopub.status.idle": "2025-06-06T14:56:30.304651Z",
     "shell.execute_reply": "2025-06-06T14:56:30.303229Z"
    },
    "papermill": {
     "duration": 0.02154,
     "end_time": "2025-06-06T14:56:30.306483",
     "exception": false,
     "start_time": "2025-06-06T14:56:30.284943",
     "status": "completed"
    },
    "tags": []
   },
   "outputs": [],
   "source": [
    "class LSTMModel(nn.Module):\n",
    "    def __init__(self,input_size,hidden_size,output_size):\n",
    "        super(LSTMModel,self).__init__()\n",
    "        self.lstm = nn.LSTM(input_size,hidden_size,num_layers = 1,batch_first = True)\n",
    "        self.dropout = nn.Dropout(0.6)\n",
    "        self.fc1 = nn.Linear(hidden_size*2,hidden_size)\n",
    "        self.bn = nn.BatchNorm1d(hidden_size)\n",
    "        self.relu = nn.ReLU()\n",
    "        self.fc2 = nn.Linear(hidden_size,output_size)\n",
    "    \n",
    "    def forward(self,x):\n",
    "        x, _ = self.lstm(x)\n",
    "        x = torch.max(x,dim = 1).values\n",
    "        x = self.dropout(x)\n",
    "        x = self.fc1(x)\n",
    "        x = self.bn(x)\n",
    "        x = self.relu(x)\n",
    "        x = self.fc2(x)\n",
    "        return x "
   ]
  },
  {
   "cell_type": "code",
   "execution_count": 17,
   "id": "e468422a",
   "metadata": {
    "execution": {
     "iopub.execute_input": "2025-06-06T14:56:30.328641Z",
     "iopub.status.busy": "2025-06-06T14:56:30.328336Z",
     "iopub.status.idle": "2025-06-06T14:56:30.345955Z",
     "shell.execute_reply": "2025-06-06T14:56:30.344911Z"
    },
    "papermill": {
     "duration": 0.031001,
     "end_time": "2025-06-06T14:56:30.347723",
     "exception": false,
     "start_time": "2025-06-06T14:56:30.316722",
     "status": "completed"
    },
    "tags": []
   },
   "outputs": [],
   "source": [
    "input_size = 258\n",
    "hidden_size = 160\n",
    "output_size = len(allowed_action)\n",
    "model = LSTMModel(input_size,hidden_size,output_size)"
   ]
  },
  {
   "cell_type": "code",
   "execution_count": 18,
   "id": "954ddfc4",
   "metadata": {
    "execution": {
     "iopub.execute_input": "2025-06-06T14:56:30.438504Z",
     "iopub.status.busy": "2025-06-06T14:56:30.438210Z",
     "iopub.status.idle": "2025-06-06T14:56:30.445486Z",
     "shell.execute_reply": "2025-06-06T14:56:30.444430Z"
    },
    "papermill": {
     "duration": 0.020074,
     "end_time": "2025-06-06T14:56:30.447410",
     "exception": false,
     "start_time": "2025-06-06T14:56:30.427336",
     "status": "completed"
    },
    "tags": []
   },
   "outputs": [],
   "source": [
    "device = torch.device('cuda' if torch.cuda.is_available() else 'cpu')"
   ]
  },
  {
   "cell_type": "code",
   "execution_count": 19,
   "id": "14d55236",
   "metadata": {
    "execution": {
     "iopub.execute_input": "2025-06-06T14:56:30.471775Z",
     "iopub.status.busy": "2025-06-06T14:56:30.471454Z",
     "iopub.status.idle": "2025-06-06T14:56:30.477903Z",
     "shell.execute_reply": "2025-06-06T14:56:30.476557Z"
    },
    "papermill": {
     "duration": 0.02065,
     "end_time": "2025-06-06T14:56:30.479437",
     "exception": false,
     "start_time": "2025-06-06T14:56:30.458787",
     "status": "completed"
    },
    "tags": []
   },
   "outputs": [
    {
     "name": "stdout",
     "output_type": "stream",
     "text": [
      "LSTMModel(\n",
      "  (lstm): LSTM(258, 160, batch_first=True, bidirectional=True)\n",
      "  (dropout): Dropout(p=0.6, inplace=False)\n",
      "  (fc1): Linear(in_features=320, out_features=160, bias=True)\n",
      "  (bn): BatchNorm1d(160, eps=1e-05, momentum=0.1, affine=True, track_running_stats=True)\n",
      "  (relu): ReLU()\n",
      "  (fc2): Linear(in_features=160, out_features=9, bias=True)\n",
      ")\n"
     ]
    }
   ],
   "source": [
    "model = model.to(device)\n",
    "print(model)"
   ]
  },
  {
   "cell_type": "code",
   "execution_count": 20,
   "id": "a1492d3c",
   "metadata": {
    "execution": {
     "iopub.execute_input": "2025-06-06T14:56:30.501377Z",
     "iopub.status.busy": "2025-06-06T14:56:30.501080Z",
     "iopub.status.idle": "2025-06-06T14:56:36.509459Z",
     "shell.execute_reply": "2025-06-06T14:56:36.508604Z"
    },
    "papermill": {
     "duration": 6.021617,
     "end_time": "2025-06-06T14:56:36.511226",
     "exception": false,
     "start_time": "2025-06-06T14:56:30.489609",
     "status": "completed"
    },
    "tags": []
   },
   "outputs": [],
   "source": [
    "import torch.optim as optim\n",
    "optimizer = optim.Adam(model.parameters(),lr = 1e-3,weight_decay = 1e-5)\n",
    "loss_function = nn.CrossEntropyLoss()"
   ]
  },
  {
   "cell_type": "code",
   "execution_count": 21,
   "id": "f09bdbbf",
   "metadata": {
    "execution": {
     "iopub.execute_input": "2025-06-06T14:56:36.533565Z",
     "iopub.status.busy": "2025-06-06T14:56:36.532432Z",
     "iopub.status.idle": "2025-06-06T14:56:36.539467Z",
     "shell.execute_reply": "2025-06-06T14:56:36.538559Z"
    },
    "papermill": {
     "duration": 0.019446,
     "end_time": "2025-06-06T14:56:36.540898",
     "exception": false,
     "start_time": "2025-06-06T14:56:36.521452",
     "status": "completed"
    },
    "tags": []
   },
   "outputs": [],
   "source": [
    "def train():\n",
    "    correct = 0\n",
    "    total = 0\n",
    "    running_loss = 0\n",
    "    model.train()\n",
    "    for x,y in train_loader:\n",
    "        x = x.float().to(device)\n",
    "        y = y.long().to(device)\n",
    "        output = model(x)\n",
    "        optimizer.zero_grad()\n",
    "        loss = loss_function(output,y)\n",
    "        loss.backward()\n",
    "        optimizer.step()\n",
    "        running_loss += loss.item()\n",
    "        _, predicted = torch.max(output,1)\n",
    "        correct += (predicted == y).sum().item()\n",
    "        total += y.size(0)\n",
    "    accuracy = (100*correct)/total\n",
    "    avg_loss = running_loss/total\n",
    "    print(f'Loss:{avg_loss: .4f}  Accuracy: {accuracy: .2f}%')"
   ]
  },
  {
   "cell_type": "code",
   "execution_count": 22,
   "id": "2fed3ea9",
   "metadata": {
    "execution": {
     "iopub.execute_input": "2025-06-06T14:56:36.562569Z",
     "iopub.status.busy": "2025-06-06T14:56:36.562227Z",
     "iopub.status.idle": "2025-06-06T14:56:36.568728Z",
     "shell.execute_reply": "2025-06-06T14:56:36.567880Z"
    },
    "papermill": {
     "duration": 0.019336,
     "end_time": "2025-06-06T14:56:36.570541",
     "exception": false,
     "start_time": "2025-06-06T14:56:36.551205",
     "status": "completed"
    },
    "tags": []
   },
   "outputs": [],
   "source": [
    "def valid():\n",
    "    running_loss = 0\n",
    "    correct = 0\n",
    "    total = 0\n",
    "    model.eval()\n",
    "    with torch.no_grad():\n",
    "        for x,y in valid_loader:\n",
    "            x = x.float().to(device)\n",
    "            y = y.long().to(device)\n",
    "            output = model(x)\n",
    "            loss = loss_function(output,y)\n",
    "            running_loss += loss.item() * y.size(0)\n",
    "            _, predicted = torch.max(output,1)\n",
    "            correct += (predicted == y).sum().item()\n",
    "            total += y.size(0)\n",
    "    avg_loss = running_loss / total\n",
    "    accuracy = (correct*100)/total\n",
    "    print(f'Loss:{avg_loss: .4f}  Accuracy:{accuracy: .2f}%')"
   ]
  },
  {
   "cell_type": "code",
   "execution_count": 23,
   "id": "5b9721e2",
   "metadata": {
    "execution": {
     "iopub.execute_input": "2025-06-06T14:56:36.593029Z",
     "iopub.status.busy": "2025-06-06T14:56:36.592257Z",
     "iopub.status.idle": "2025-06-06T14:56:54.399772Z",
     "shell.execute_reply": "2025-06-06T14:56:54.398671Z"
    },
    "papermill": {
     "duration": 17.820673,
     "end_time": "2025-06-06T14:56:54.401359",
     "exception": false,
     "start_time": "2025-06-06T14:56:36.580686",
     "status": "completed"
    },
    "tags": []
   },
   "outputs": [
    {
     "name": "stdout",
     "output_type": "stream",
     "text": [
      "Epoch: 1/10:\n",
      "Loss: 0.0626  Accuracy:  31.76%\n",
      "Loss: 1.9205  Accuracy: 62.38%\n",
      "Epoch: 2/10:\n",
      "Loss: 0.0474  Accuracy:  55.09%\n",
      "Loss: 1.3163  Accuracy: 74.26%\n",
      "Epoch: 3/10:\n",
      "Loss: 0.0339  Accuracy:  74.19%\n",
      "Loss: 0.8319  Accuracy: 87.13%\n",
      "Epoch: 4/10:\n",
      "Loss: 0.0259  Accuracy:  83.87%\n",
      "Loss: 0.5004  Accuracy: 91.09%\n",
      "Epoch: 5/10:\n",
      "Loss: 0.0187  Accuracy:  88.34%\n",
      "Loss: 0.3394  Accuracy: 94.06%\n",
      "Epoch: 6/10:\n",
      "Loss: 0.0146  Accuracy:  90.32%\n",
      "Loss: 0.2610  Accuracy: 94.06%\n",
      "Epoch: 7/10:\n",
      "Loss: 0.0113  Accuracy:  93.55%\n",
      "Loss: 0.2147  Accuracy: 97.03%\n",
      "Epoch: 8/10:\n",
      "Loss: 0.0096  Accuracy:  94.04%\n",
      "Loss: 0.1710  Accuracy: 98.02%\n",
      "Epoch: 9/10:\n",
      "Loss: 0.0087  Accuracy:  94.04%\n",
      "Loss: 0.1923  Accuracy: 96.04%\n",
      "Epoch: 10/10:\n",
      "Loss: 0.0088  Accuracy:  93.05%\n",
      "Loss: 0.1262  Accuracy: 97.03%\n"
     ]
    }
   ],
   "source": [
    "num_epochs = 10\n",
    "for epoch in range(num_epochs):\n",
    "    print(f'Epoch: {epoch+1}/{num_epochs}:')\n",
    "    train()\n",
    "    valid()"
   ]
  }
 ],
 "metadata": {
  "kaggle": {
   "accelerator": "none",
   "dataSources": [
    {
     "datasetId": 7596177,
     "sourceId": 12068157,
     "sourceType": "datasetVersion"
    },
    {
     "datasetId": 7596294,
     "sourceId": 12068311,
     "sourceType": "datasetVersion"
    },
    {
     "datasetId": 7596492,
     "sourceId": 12068609,
     "sourceType": "datasetVersion"
    }
   ],
   "dockerImageVersionId": 31040,
   "isGpuEnabled": false,
   "isInternetEnabled": true,
   "language": "python",
   "sourceType": "notebook"
  },
  "kernelspec": {
   "display_name": "myenv",
   "language": "python",
   "name": "python3"
  },
  "language_info": {
   "codemirror_mode": {
    "name": "ipython",
    "version": 3
   },
   "file_extension": ".py",
   "mimetype": "text/x-python",
   "name": "python",
   "nbconvert_exporter": "python",
   "pygments_lexer": "ipython3",
   "version": "3.12.3"
  },
  "papermill": {
   "default_parameters": {},
   "duration": 91.28334,
   "end_time": "2025-06-06T14:57:02.555393",
   "environment_variables": {},
   "exception": true,
   "input_path": "__notebook__.ipynb",
   "output_path": "__notebook__.ipynb",
   "parameters": {},
   "start_time": "2025-06-06T14:55:31.272053",
   "version": "2.6.0"
  }
 },
 "nbformat": 4,
 "nbformat_minor": 5
}
